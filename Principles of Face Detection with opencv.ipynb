{
 "cells": [
  {
   "cell_type": "markdown",
   "id": "involved-paris",
   "metadata": {},
   "source": [
    "## Haarcascades\n",
    "Face detection merely detects the presence of a face in an image, while face recognition involves identifying whose face it is. Now, we'll talk more about this later on in this course. But essentially\n",
    "\n",
    "face detection is performed using classifers\n",
    "\n",
    "A classifier is essentially an algorithm that decides  whether a given image is positive or negatice , whether a face is presnt or not\n",
    "\n",
    "Open cv already comes with a lot of pretrained classifiers that we can use in any program, So essentially the two main classifiers that exist today ar har cascades, and advanced classifiers local binary patterns, \n",
    " "
   ]
  },
  {
   "cell_type": "code",
   "execution_count": 2,
   "id": "adequate-highway",
   "metadata": {},
   "outputs": [],
   "source": [
    "import cv2 as cv\n",
    "face_cascade = cv.CascadeClassifier('./image_samples/haarcascade_frontalface_default.xml')\n",
    "eye_cascade = cv.CascadeClassifier('./image_samples/haarcascade_eye.xml')\n"
   ]
  },
  {
   "cell_type": "code",
   "execution_count": 10,
   "id": "found-roommate",
   "metadata": {},
   "outputs": [
    {
     "name": "stdout",
     "output_type": "stream",
     "text": [
      "Number of faces found = 6\n"
     ]
    },
    {
     "data": {
      "text/plain": [
       "-1"
      ]
     },
     "execution_count": 10,
     "metadata": {},
     "output_type": "execute_result"
    }
   ],
   "source": [
    "import cv2 as cv\n",
    "\n",
    "img = cv.imread('./Curso-Opencv-full/images/group 2.jpg')\n",
    "\n",
    "cv.imshow('Group of 5 people', img)\n",
    "\n",
    "gray = cv.cvtColor(img, cv.COLOR_BGR2GRAY)\n",
    "\n",
    "cv.imshow('Gray Person', gray)\n",
    "\n",
    "\n",
    "face_cascade = cv.CascadeClassifier('./image_samples/haarcascade_frontalface_default.xml')\n",
    "#  devuelve una lista con los rostros encontrados\n",
    "# rectangular coordinates for the faces that are present in the image \n",
    "#---------------------------------------------------------------------->3-->6\n",
    "faces_rect = face_cascade.detectMultiScale(gray, scaleFactor=1.1, minNeighbors=6)\n",
    "\n",
    "print(f\"Number of faces found = {len(faces_rect)}\")\n",
    "\n",
    "\n",
    "for (x,y,w,h) in faces_rect:\n",
    "    cv.rectangle(img, (x,y), (x+w,y+h), (0, 255, 0), thickness=2)\n",
    "    \n",
    "cv.imshow('Detected faces', img)\n",
    "cv.waitKey(0)\n",
    "# harr cascades are really sensitive to noise in an image"
   ]
  },
  {
   "cell_type": "code",
   "execution_count": null,
   "id": "enhanced-transport",
   "metadata": {},
   "outputs": [],
   "source": [
    "## one way we can try to minimize the sensitivity to noise is essentially modifying the scale factor in minimun neghbors"
   ]
  }
 ],
 "metadata": {
  "kernelspec": {
   "display_name": "Python 3",
   "language": "python",
   "name": "python3"
  },
  "language_info": {
   "codemirror_mode": {
    "name": "ipython",
    "version": 3
   },
   "file_extension": ".py",
   "mimetype": "text/x-python",
   "name": "python",
   "nbconvert_exporter": "python",
   "pygments_lexer": "ipython3",
   "version": "3.6.9"
  }
 },
 "nbformat": 4,
 "nbformat_minor": 5
}

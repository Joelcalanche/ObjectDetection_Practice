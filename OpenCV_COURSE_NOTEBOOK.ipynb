{
 "cells": [
  {
   "cell_type": "markdown",
   "id": "approved-process",
   "metadata": {},
   "source": [
    "## Read"
   ]
  },
  {
   "cell_type": "code",
   "execution_count": 1,
   "id": "removed-wrapping",
   "metadata": {},
   "outputs": [],
   "source": [
    "import cv2 as cv\n",
    "\n",
    "\n"
   ]
  },
  {
   "cell_type": "code",
   "execution_count": 3,
   "id": "decent-findings",
   "metadata": {},
   "outputs": [],
   "source": [
    "img =cv.imread('./Curso-Opencv-full/images/cat_large.jpg')\n",
    "img2 = cv.imread('C:/Users/calanche/Desktop/buldozer-price-prediction-project/Curso-Opencv-full/images/cat.jpg')"
   ]
  },
  {
   "cell_type": "code",
   "execution_count": 4,
   "id": "central-hepatitis",
   "metadata": {},
   "outputs": [],
   "source": [
    "import numpy as np"
   ]
  },
  {
   "cell_type": "code",
   "execution_count": 5,
   "id": "integral-occasions",
   "metadata": {},
   "outputs": [
    {
     "data": {
      "text/plain": [
       "100"
      ]
     },
     "execution_count": 5,
     "metadata": {},
     "output_type": "execute_result"
    }
   ],
   "source": [
    "# cv.imshow('cat', img2)\n",
    "cv.imshow('cat_large', img)\n",
    "cv.waitKey(0)"
   ]
  },
  {
   "cell_type": "markdown",
   "id": "pursuant-agenda",
   "metadata": {},
   "source": [
    "## Reading videos\n"
   ]
  },
  {
   "cell_type": "code",
   "execution_count": 6,
   "id": "former-jungle",
   "metadata": {},
   "outputs": [],
   "source": [
    "# si le pasas un integer, por ejemplo 0 activara la web camp, tambien admite un path\n",
    "# el video se lee frame by frame\n",
    "capture = cv.VideoCapture('./Curso-Opencv-full/videos/dog.mp4')\n",
    "while True:\n",
    "    isTrue, frame = capture.read()\n",
    "    cv.imshow('video', frame)\n",
    "    # si la letra d es presionada sale del loop\n",
    "    if cv.waitKey(20) & 0xFF==ord('d'):\n",
    "        break\n",
    "capture.release()\n",
    "cv.destroyAllWindows()\n",
    "\n",
    "\n"
   ]
  },
  {
   "cell_type": "markdown",
   "id": "environmental-royal",
   "metadata": {},
   "source": [
    "## Resizing & Rescaling \n",
    "\n",
    "Usually we resize and rescale video to prevent computational strain, rescale implies modifying its height and width to a particular height and width, usually downscale, (smaller)"
   ]
  },
  {
   "cell_type": "code",
   "execution_count": 7,
   "id": "unique-silence",
   "metadata": {},
   "outputs": [],
   "source": [
    "def rescaleFrame(frame, scale=0.75):\n",
    "    # Images, Videos, and live video\n",
    "    width = int(frame.shape[1] * scale)\n",
    "    \n",
    "    height = int(frame.shape[0] * scale)\n",
    "    \n",
    "    dimensions = (width, height)\n",
    "    \n",
    "    return cv.resize(frame, dimensions, interpolation=cv.INTER_AREA)\n",
    "# Reading Videos\n",
    "capture = cv.VideoCapture('./Curso-Opencv-full/videos/dog.mp4')\n",
    "while True:\n",
    "    \n",
    "    isTrue, frame = capture.read()\n",
    "    frame_resized = rescaleFrame(frame, scale= 0.2)\n",
    "    cv.imshow('video', frame)\n",
    "    cv.imshow('video Resized', frame_resized)\n",
    "    # si la letra d es presionada sale del loop\n",
    "    if cv.waitKey(20) & 0xFF==ord('d'):\n",
    "        break\n",
    "capture.release()\n",
    "cv.destroyAllWindows()\n",
    "\n",
    "\n"
   ]
  },
  {
   "cell_type": "code",
   "execution_count": 11,
   "id": "vietnamese-recording",
   "metadata": {},
   "outputs": [
    {
     "data": {
      "text/plain": [
       "-1"
      ]
     },
     "execution_count": 11,
     "metadata": {},
     "output_type": "execute_result"
    }
   ],
   "source": [
    "resized_image = rescaleFrame(img2)\n",
    "cv.imshow('Image', resized_image)\n",
    "cv.waitKey(0)"
   ]
  },
  {
   "cell_type": "code",
   "execution_count": 12,
   "id": "decent-marine",
   "metadata": {},
   "outputs": [],
   "source": [
    "def changeRes(width, height):\n",
    "    # live video\n",
    "    capture.set(3, width)\n",
    "    capture.set(4, height)\n",
    "    "
   ]
  },
  {
   "cell_type": "markdown",
   "id": "israeli-auckland",
   "metadata": {},
   "source": [
    "## Drawing Shapes & Putting Text "
   ]
  },
  {
   "cell_type": "code",
   "execution_count": 39,
   "id": "rubber-delaware",
   "metadata": {},
   "outputs": [
    {
     "data": {
      "text/plain": [
       "-1"
      ]
     },
     "execution_count": 39,
     "metadata": {},
     "output_type": "execute_result"
    }
   ],
   "source": [
    "import cv2 as cv\n",
    "\n",
    "import numpy as np\n",
    "\n",
    "blank = np.zeros((500, 500, 3), dtype='uint8')\n",
    "# cv.imshow('Blank', blank)\n",
    "img = cv.imread('./Curso-Opencv-full/images/cat.jpg')\n",
    "\n",
    "# cv.imshow('Cat', img)\n",
    "\n",
    "# 1. Paint the image a certain colour\n",
    "# blank[200:300, 300:400] = 0, 0, 255\n",
    "# cv.imshow('Blue', blank)\n",
    "\n",
    "# 2. Draw a Rectangle\n",
    "\n",
    "# cv.rectangle(blank, (0,0), (250, 250),  (255, 0, 0), thickness=2)\n",
    "# cv.rectangle(blank, (0,0), (250, 250),  (255, 0, 0), thickness=cv.FILLED)\n",
    "# cv.filled = -1\n",
    "\n",
    "\n",
    "cv.rectangle(blank, (0,0), (img.shape[1]//2, img.shape[0]//2),  (255, 0, 0), thickness=2)\n",
    "# cv.imshow('Rectangle', blank)\n",
    "\n",
    "\n",
    "\n",
    "cv.waitKey(0)\n"
   ]
  },
  {
   "cell_type": "code",
   "execution_count": 40,
   "id": "unusual-gallery",
   "metadata": {},
   "outputs": [
    {
     "data": {
      "text/plain": [
       "array([[[255,   0,   0],\n",
       "        [255,   0,   0],\n",
       "        [255,   0,   0],\n",
       "        ...,\n",
       "        [  0,   0,   0],\n",
       "        [  0,   0,   0],\n",
       "        [  0,   0,   0]],\n",
       "\n",
       "       [[255,   0,   0],\n",
       "        [255,   0,   0],\n",
       "        [255,   0,   0],\n",
       "        ...,\n",
       "        [  0,   0,   0],\n",
       "        [  0,   0,   0],\n",
       "        [  0,   0,   0]],\n",
       "\n",
       "       [[255,   0,   0],\n",
       "        [255,   0,   0],\n",
       "        [  0,   0,   0],\n",
       "        ...,\n",
       "        [  0,   0,   0],\n",
       "        [  0,   0,   0],\n",
       "        [  0,   0,   0]],\n",
       "\n",
       "       ...,\n",
       "\n",
       "       [[  0,   0,   0],\n",
       "        [  0,   0,   0],\n",
       "        [  0,   0,   0],\n",
       "        ...,\n",
       "        [  0,   0,   0],\n",
       "        [  0,   0,   0],\n",
       "        [  0,   0,   0]],\n",
       "\n",
       "       [[  0,   0,   0],\n",
       "        [  0,   0,   0],\n",
       "        [  0,   0,   0],\n",
       "        ...,\n",
       "        [  0,   0,   0],\n",
       "        [  0,   0,   0],\n",
       "        [  0,   0,   0]],\n",
       "\n",
       "       [[  0,   0,   0],\n",
       "        [  0,   0,   0],\n",
       "        [  0,   0,   0],\n",
       "        ...,\n",
       "        [  0,   0,   0],\n",
       "        [  0,   0,   0],\n",
       "        [  0,   0,   0]]], dtype=uint8)"
      ]
     },
     "execution_count": 40,
     "metadata": {},
     "output_type": "execute_result"
    }
   ],
   "source": [
    "# 3. Drow a circle\n",
    "# imagen, centro, radio, color\n",
    "cv.circle(blank, (blank.shape[1]//2, blank.shape[0]//2), 40, (0, 0, 255), thickness=-1)\n",
    "\n",
    "# cv.imshow('Circle',blank)\n",
    "\n"
   ]
  },
  {
   "cell_type": "code",
   "execution_count": 41,
   "id": "documentary-technician",
   "metadata": {},
   "outputs": [
    {
     "data": {
      "text/plain": [
       "-1"
      ]
     },
     "execution_count": 41,
     "metadata": {},
     "output_type": "execute_result"
    }
   ],
   "source": [
    "# 4. Drow a line\n",
    "\n",
    "cv.line(blank, (100,250),  (300, 400), (255, 255, 255), thickness=3) \n",
    "\n",
    "cv.imshow('Line', blank)\n",
    "\n",
    "cv.waitKey(0)"
   ]
  },
  {
   "cell_type": "markdown",
   "id": "democratic-shoot",
   "metadata": {},
   "source": [
    "## Text on an image"
   ]
  },
  {
   "cell_type": "code",
   "execution_count": 44,
   "id": "friendly-detective",
   "metadata": {},
   "outputs": [
    {
     "data": {
      "text/plain": [
       "-1"
      ]
     },
     "execution_count": 44,
     "metadata": {},
     "output_type": "execute_result"
    }
   ],
   "source": [
    "# 5. Write text\n",
    "# frame, texto, punto inicial\n",
    "cv.putText(blank, 'Hello, my name is Jason', (0, 225), cv.FONT_HERSHEY_TRIPLEX, 1.0, (0,255,0), 2)\n",
    "cv.imshow('text', blank)\n",
    "cv.waitKey(0)"
   ]
  },
  {
   "cell_type": "markdown",
   "id": "electoral-montreal",
   "metadata": {},
   "source": [
    "## Essential Functions "
   ]
  },
  {
   "cell_type": "code",
   "execution_count": 45,
   "id": "tired-marks",
   "metadata": {},
   "outputs": [
    {
     "data": {
      "text/plain": [
       "-1"
      ]
     },
     "execution_count": 45,
     "metadata": {},
     "output_type": "execute_result"
    }
   ],
   "source": [
    "import cv2 as cv\n",
    "# bgr images\n",
    "img = cv.imread('./Curso-Opencv-full/images/cat.jpg')\n",
    "\n",
    "cv.imshow('cat', img)\n",
    "\n",
    "gray = cv.cvtColor(img, cv.COLOR_BGR2GRAY)\n",
    "\n",
    "cv.imshow('Gray', gray)\n",
    "\n",
    "# Converting to gray scale\n",
    "\n",
    "\n",
    "\n",
    "\n",
    "\n",
    "\n",
    "\n",
    "cv.waitKey(0)"
   ]
  },
  {
   "cell_type": "code",
   "execution_count": 50,
   "id": "absent-yellow",
   "metadata": {},
   "outputs": [
    {
     "data": {
      "text/plain": [
       "-1"
      ]
     },
     "execution_count": 50,
     "metadata": {},
     "output_type": "execute_result"
    }
   ],
   "source": [
    "# Blur(remove the noise in an image)\n",
    "\n",
    "# blur = cv.GaussianBlur(img, (3,3), cv.BORDER_DEFAULT)\n",
    "blur = cv.GaussianBlur(img, (7,7), cv.BORDER_DEFAULT)\n",
    "\n",
    "cv.imshow('cat', img)\n",
    "cv.imshow('BLur', blur)\n",
    "cv.waitKey(0)"
   ]
  },
  {
   "cell_type": "code",
   "execution_count": 55,
   "id": "residential-quebec",
   "metadata": {},
   "outputs": [
    {
     "data": {
      "text/plain": [
       "-1"
      ]
     },
     "execution_count": 55,
     "metadata": {},
     "output_type": "execute_result"
    }
   ],
   "source": [
    "# Edge Cascade ( detector)\n",
    "canny = cv.Canny (blur, 125, 175)\n",
    "\n",
    "cv.imshow('Canny Edges', canny)\n",
    "\n",
    "\n",
    "# para reducir el numero de edges podemos primero aplicar blur\n",
    "\n",
    "\n",
    "# Dilating the image requiere structuring element\n",
    "\n",
    "\n",
    "dilated = cv.dilate(canny, (7, 7), iterations=1 )\n",
    "# permite dilater los edges\n",
    "cv.imshow('Dilated', dilated )\n",
    "cv.waitKey(0)"
   ]
  },
  {
   "cell_type": "code",
   "execution_count": 56,
   "id": "aware-aberdeen",
   "metadata": {},
   "outputs": [
    {
     "data": {
      "text/plain": [
       "-1"
      ]
     },
     "execution_count": 56,
     "metadata": {},
     "output_type": "execute_result"
    }
   ],
   "source": [
    "# hay una forma de regresarnos despues de haber dilatado(eroding)\n",
    "#Eroding\n",
    "\n",
    "\n",
    "eroded = cv.erode(dilated, (3, 3), iterations=1)\n",
    "\n",
    "\n",
    "cv.imshow('Eroded',eroded )\n",
    "cv.waitKey(0)\n",
    "# tiene una pequea diferencia con  structural element"
   ]
  },
  {
   "cell_type": "code",
   "execution_count": 58,
   "id": "ecological-morrison",
   "metadata": {},
   "outputs": [
    {
     "data": {
      "text/plain": [
       "-1"
      ]
     },
     "execution_count": 58,
     "metadata": {},
     "output_type": "execute_result"
    }
   ],
   "source": [
    "# Resize\n",
    "# ignoring the aspect ratio\n",
    "\n",
    "# para imagens mas grandes puees udes cv.INTER_LINEAR O cv.INTER_CUBIC\n",
    "# cubic es slowest\n",
    "resized = cv.resize(img, (500, 500), interpolation=cv.INTER_AREA)\n",
    "\n",
    "cv.imshow('resized', resized)\n",
    "cv.waitKey(0)"
   ]
  },
  {
   "cell_type": "code",
   "execution_count": 60,
   "id": "senior-harvey",
   "metadata": {},
   "outputs": [
    {
     "data": {
      "text/plain": [
       "-1"
      ]
     },
     "execution_count": 60,
     "metadata": {},
     "output_type": "execute_result"
    }
   ],
   "source": [
    "# Cropping a portion of the images on the basis of your pixel values\n",
    "\n",
    "cropped = img[50:200, 200:400]\n",
    "\n",
    "\n",
    "cv.imshow('Cropped', cropped)\n",
    "cv.waitKey(0)"
   ]
  },
  {
   "cell_type": "markdown",
   "id": "married-seller",
   "metadata": {},
   "source": [
    "## Image transformation ( data augmentation)\n",
    "\n",
    "rotation,\n",
    "\n",
    "translation\n",
    "\n",
    "resizing\n",
    "\n",
    "clipping\n",
    "\n",
    "an cropping"
   ]
  },
  {
   "cell_type": "code",
   "execution_count": 64,
   "id": "supreme-yeast",
   "metadata": {},
   "outputs": [
    {
     "data": {
      "text/plain": [
       "-1"
      ]
     },
     "execution_count": 64,
     "metadata": {},
     "output_type": "execute_result"
    }
   ],
   "source": [
    "import cv2 as cv\n",
    "\n",
    "import numpy as np\n",
    "\n",
    "img = cv.imread('./Curso-Opencv-full/images/cat.jpg')\n",
    "\n",
    "\n",
    "cv.imshow('cat', img)\n",
    "\n",
    "# Translation\n",
    "# shifting an image along the x and y axis\n",
    "\n",
    "def translate(img, x, y):\n",
    "    transMat = np.float32([[1, 0, x],\n",
    "                           [0, 1, y]])\n",
    "    \n",
    "    dimensions = (img.shape[1], img.shape[0])\n",
    "    \n",
    "    return cv.warpAffine(img, transMat, dimensions)\n",
    "\n",
    "# -x ---> left\n",
    "\n",
    "# -y ----> up\n",
    "\n",
    "# x ------> Right\n",
    "\n",
    "# y -----> down\n",
    "\n",
    "translated = translate(img, 100, 100)\n",
    "\n",
    "    \n",
    "cv.imshow('Translated', translated)\n",
    "\n",
    "cv.waitKey(0)"
   ]
  },
  {
   "cell_type": "code",
   "execution_count": 69,
   "id": "noted-salad",
   "metadata": {},
   "outputs": [
    {
     "data": {
      "text/plain": [
       "-1"
      ]
     },
     "execution_count": 69,
     "metadata": {},
     "output_type": "execute_result"
    }
   ],
   "source": [
    "# Rotation\n",
    "\n",
    "def rotate(img, angle, rotPoint=None):\n",
    "    (height, width) = img.shape[:2]\n",
    "    \n",
    "    if rotPoint is None:\n",
    "        # asume que la rotara desde el centro\n",
    "        rotPoint = (width//2, height//2)\n",
    "        \n",
    "    rotMat = cv.getRotationMatrix2D(rotPoint, angle, 1.0)\n",
    "    dimensions = (width, height)\n",
    "    \n",
    "    \n",
    "    return cv.warpAffine(img, rotMat, dimensions)\n",
    "\n",
    "rotated = rotate(img, -45)\n",
    "\n",
    "cv.imshow('Rotated', rotated)\n",
    "\n",
    "rotated_rotated = rotate(img, -90)\n",
    "\n",
    "cv.imshow('Rotated, Rotated', rotated_rotated)\n",
    "\n",
    "\n",
    "\n",
    "cv.waitKey(0)\n",
    "\n",
    "        \n"
   ]
  },
  {
   "cell_type": "code",
   "execution_count": 70,
   "id": "recovered-address",
   "metadata": {},
   "outputs": [
    {
     "data": {
      "text/plain": [
       "-1"
      ]
     },
     "execution_count": 70,
     "metadata": {},
     "output_type": "execute_result"
    }
   ],
   "source": [
    "# Resizing\n",
    "\n",
    "resized = cv.resize(img, (500, 500), interpolation=cv.INTER_CUBIC)\n",
    "\n",
    "cv.imshow('Resized', resized)\n",
    "\n",
    "\n",
    "cv.waitKey(0)"
   ]
  },
  {
   "cell_type": "code",
   "execution_count": 71,
   "id": "powered-citizenship",
   "metadata": {},
   "outputs": [
    {
     "data": {
      "text/plain": [
       "-1"
      ]
     },
     "execution_count": 71,
     "metadata": {},
     "output_type": "execute_result"
    }
   ],
   "source": [
    "# Flipping es como voltear\n",
    "# 0 flipping vertically that is over the x axis, 1 flipping is horizontal over the y axis, -1 is both\n",
    "flip = cv.flip(img, -1)\n",
    "\n",
    "cv.imshow('Flip', flip)\n",
    "cv.waitKey(0)\n",
    "\n"
   ]
  },
  {
   "cell_type": "code",
   "execution_count": null,
   "id": "developing-burns",
   "metadata": {},
   "outputs": [],
   "source": [
    "# Cropping , es recortar\n",
    "\n",
    "cropped = img[200:400, 300:400]\n",
    "\n",
    "cv.imshow('Cropped', cropped)\n",
    "\n",
    "\n",
    "cv.waitKey(0)"
   ]
  },
  {
   "cell_type": "markdown",
   "id": "global-disposal",
   "metadata": {},
   "source": [
    "## Contour Detection \n",
    "are basically the boundaries of objects, the line or curve that joins the  continuos points along the boundary of an objet. Now from a mathematical point of view the're not the same as edges. For the most part, you can get away with thinking of contours as edges, but from a mathematical point of view, contours and edges are two different things, contours are usefu tools when you get into shape analysis and object detection and recognition.\n"
   ]
  },
  {
   "cell_type": "code",
   "execution_count": 16,
   "id": "champion-photograph",
   "metadata": {},
   "outputs": [
    {
     "name": "stdout",
     "output_type": "stream",
     "text": [
      "69 contour(s) found!\n"
     ]
    },
    {
     "data": {
      "text/plain": [
       "-1"
      ]
     },
     "execution_count": 16,
     "metadata": {},
     "output_type": "execute_result"
    }
   ],
   "source": [
    "# recuerda joel son 3 instrucciones indispensables al trabajar con imagenes, el read, al show y el wait\n",
    "\n",
    "import cv2 as cv\n",
    "\n",
    "import numpy as np\n",
    "\n",
    "\n",
    "img = cv.imread('./Curso-Opencv-full/images/cats 2.jpg')\n",
    "\n",
    "cv.imshow('cats', img)\n",
    "\n",
    "blank = np.zeros(img.shape, dtype='uint8')\n",
    "\n",
    "cv.imshow('Blank', blank)\n",
    "\n",
    "gray = cv.cvtColor(img, cv.COLOR_BGR2GRAY)\n",
    "\n",
    "cv.imshow('Gray', gray)\n",
    "\n",
    "\n",
    "blur = cv.GaussianBlur(gray, (5,5), cv.BORDER_DEFAULT)\n",
    "cv.imshow('Blur', blur)\n",
    "\n",
    "\n",
    "\n",
    "\n",
    "# # edges detector\n",
    "\n",
    "canny = cv.Canny(blur, 125, 175)\n",
    "\n",
    "cv.imshow('Canny Edges', canny)\n",
    "# (edges, mod) chain_approx_simple/none, none te regresa mas informacion, \n",
    "\n",
    "\n",
    "# ret, thresh = cv.threshold(gray, 125, 255, cv.THRESH_BINARY)\n",
    "# threshold es si un pixel es menor 125 sera seteado a 0\n",
    "# cv.imshow('Thresh', thresh)\n",
    "\n",
    "# contours, hierarchies = cv.findContours(thresh, cv.RETR_LIST, cv.CHAIN_APPROX_SIMPLE)\n",
    "contours, hierarchies = cv.findContours(canny, cv.RETR_LIST, cv.CHAIN_APPROX_SIMPLE)\n",
    "\n",
    "print(F\"{len(contours)} contour(s) found!\")\n",
    "\n",
    "cv.drawContours(blank, contours, -1, (0, 0, 255), 2)\n",
    "\n",
    "cv.imshow('Contour Drawn', blank)\n",
    "\n",
    "cv.waitKey(0)"
   ]
  },
  {
   "cell_type": "markdown",
   "id": "funny-continent",
   "metadata": {},
   "source": [
    "## Color Spaces\n"
   ]
  },
  {
   "cell_type": "code",
   "execution_count": 18,
   "id": "conscious-hopkins",
   "metadata": {},
   "outputs": [
    {
     "data": {
      "text/plain": [
       "-1"
      ]
     },
     "execution_count": 18,
     "metadata": {},
     "output_type": "execute_result"
    }
   ],
   "source": [
    "img = cv.imread('./Curso-Opencv-full/images/cat.jpg')\n",
    "cv.imshow('Cat', img)\n",
    "# BGR to Grayscale\n",
    "\n",
    "gray = cv.cvtColor(img, cv.COLOR_BGR2GRAY)\n",
    "\n",
    "\n",
    "cv.imshow('Gray', gray)\n",
    "cv.waitKey(0)"
   ]
  },
  {
   "cell_type": "code",
   "execution_count": 19,
   "id": "black-outdoors",
   "metadata": {},
   "outputs": [
    {
     "data": {
      "text/plain": [
       "-1"
      ]
     },
     "execution_count": 19,
     "metadata": {},
     "output_type": "execute_result"
    }
   ],
   "source": [
    "img = cv.imread('./Curso-Opencv-full/images/cat.jpg')\n",
    "cv.imshow('Cat', img)\n",
    "# BGR to HSV\n",
    "\n",
    "hsv = cv.cvtColor(img, cv.COLOR_BGR2HSV)\n",
    "\n",
    "\n",
    "cv.imshow('HSV', hsv)\n",
    "cv.waitKey(0)"
   ]
  },
  {
   "cell_type": "code",
   "execution_count": 20,
   "id": "returning-broad",
   "metadata": {},
   "outputs": [
    {
     "data": {
      "text/plain": [
       "-1"
      ]
     },
     "execution_count": 20,
     "metadata": {},
     "output_type": "execute_result"
    }
   ],
   "source": [
    "img = cv.imread('./Curso-Opencv-full/images/cat.jpg')\n",
    "cv.imshow('Cat', img)\n",
    "# BGR to L*A*B\n",
    "\n",
    "lab = cv.cvtColor(img, cv.COLOR_BGR2LAB)\n",
    "\n",
    "\n",
    "cv.imshow('LAB', lab)\n",
    "cv.waitKey(0)\n",
    "\n",
    "# open cv por default lee images on BGR (blue, green, red) format"
   ]
  },
  {
   "cell_type": "code",
   "execution_count": 21,
   "id": "executed-thirty",
   "metadata": {},
   "outputs": [
    {
     "data": {
      "image/png": "[encoded data removed]",
      "text/plain": [
       "<Figure size 432x288 with 1 Axes>"
      ]
     },
     "metadata": {
      "needs_background": "light"
     },
     "output_type": "display_data"
    }
   ],
   "source": [
    "# BGR is the oppositive RGB\n",
    "import matplotlib.pyplot as plt\n",
    "plt.imshow(img)\n",
    "\n",
    "plt.show()\n",
    "\n"
   ]
  },
  {
   "cell_type": "code",
   "execution_count": 23,
   "id": "peaceful-immunology",
   "metadata": {},
   "outputs": [
    {
     "data": {
      "text/plain": [
       "-1"
      ]
     },
     "execution_count": 23,
     "metadata": {},
     "output_type": "execute_result"
    }
   ],
   "source": [
    "img = cv.imread('./Curso-Opencv-full/images/cat.jpg')\n",
    "cv.imshow('Cat', img)\n",
    "# BGR to RGB\n",
    "\n",
    "rgb = cv.cvtColor(img, cv.COLOR_BGR2RGB)\n",
    "\n",
    "\n",
    "\n",
    "\n",
    "cv.imshow('RGB', rgb)\n",
    "cv.waitKey(0)\n",
    "\n",
    "\n"
   ]
  },
  {
   "cell_type": "code",
   "execution_count": 24,
   "id": "utility-burns",
   "metadata": {},
   "outputs": [
    {
     "data": {
      "image/png": "[encoded data removed]",
      "text/plain": [
       "<Figure size 432x288 with 1 Axes>"
      ]
     },
     "metadata": {
      "needs_background": "light"
     },
     "output_type": "display_data"
    }
   ],
   "source": [
    "plt.imshow(rgb)\n",
    "\n",
    "plt.show()"
   ]
  },
  {
   "cell_type": "code",
   "execution_count": 26,
   "id": "featured-riding",
   "metadata": {},
   "outputs": [
    {
     "data": {
      "text/plain": [
       "-1"
      ]
     },
     "execution_count": 26,
     "metadata": {},
     "output_type": "execute_result"
    }
   ],
   "source": [
    "# HSV to BGR\n",
    "hsv_bgr = cv.cvtColor(hsv, cv.COLOR_HSV2BGR)\n",
    "\n",
    "cv.imshow('HSV----> BGR', hsv_bgr)\n",
    "\n",
    "cv.waitKey(0)\n",
    "\n",
    "\n"
   ]
  },
  {
   "cell_type": "markdown",
   "id": "comprehensive-choice",
   "metadata": {},
   "source": [
    "## COLOR CHANNELS"
   ]
  },
  {
   "cell_type": "code",
   "execution_count": 27,
   "id": "small-candidate",
   "metadata": {},
   "outputs": [
    {
     "name": "stdout",
     "output_type": "stream",
     "text": [
      "(427, 640, 3)\n",
      "(427, 640)\n",
      "(427, 640)\n",
      "(427, 640)\n"
     ]
    },
    {
     "data": {
      "text/plain": [
       "-1"
      ]
     },
     "execution_count": 27,
     "metadata": {},
     "output_type": "execute_result"
    }
   ],
   "source": [
    "img = cv.imread('./Curso-Opencv-full/images/cat.jpg')\n",
    "cv.imshow('Cat', img)\n",
    "# split me permite separar en los distintos color chanel\n",
    "b, g, r =cv.split(img)\n",
    "\n",
    "cv.imshow('BLue', b)\n",
    "\n",
    "cv.imshow('Green', g)\n",
    "\n",
    "cv.imshow('Red', r)\n",
    "\n",
    "\n",
    "print(img.shape)\n",
    "print(b.shape)\n",
    "print(g.shape)\n",
    "print(r.shape)\n",
    "\n",
    "cv.waitKey(0)\n",
    "\n",
    "# las imagenes se despliegan en escala de grises donde a mayor concentracin de un color se tornara blanco,\n",
    "\n",
    "# grayscale images have shape of one"
   ]
  },
  {
   "cell_type": "code",
   "execution_count": 28,
   "id": "endangered-republic",
   "metadata": {},
   "outputs": [
    {
     "data": {
      "text/plain": [
       "-1"
      ]
     },
     "execution_count": 28,
     "metadata": {},
     "output_type": "execute_result"
    }
   ],
   "source": [
    "# merged imagenes\n",
    "\n",
    "merged = cv.merge([b, g, r])\n",
    "\n",
    "cv.imshow('Merged Image', merged)\n",
    "\n",
    "\n",
    "cv.waitKey(0)"
   ]
  },
  {
   "cell_type": "code",
   "execution_count": 29,
   "id": "fancy-redhead",
   "metadata": {},
   "outputs": [
    {
     "name": "stdout",
     "output_type": "stream",
     "text": [
      "(427, 640, 3)\n"
     ]
    },
    {
     "data": {
      "text/plain": [
       "-1"
      ]
     },
     "execution_count": 29,
     "metadata": {},
     "output_type": "execute_result"
    }
   ],
   "source": [
    "blank = np.zeros(img.shape[:2], dtype='uint8')\n",
    "red = cv.merge([blank, blank, r])\n",
    "blue =  cv.merge([b,  blank, blank])\n",
    "green = cv.merge([blank, g, blank])\n",
    "\n",
    "cv.imshow('Blue', blue)\n",
    "cv.imshow('Green', green)\n",
    "cv.imshow('Red', red)\n",
    "\n",
    "\n",
    "print(img.shape)\n",
    "\n",
    "cv.waitKey(0)\n",
    "\n",
    "\n",
    "\n",
    "\n"
   ]
  },
  {
   "cell_type": "markdown",
   "id": "regular-lingerie",
   "metadata": {},
   "source": [
    "## Blurring Techniques\n",
    "\n",
    "we gererally smooth and image when it tends to have a lot of noise, and noise that's caused from camera sensors are basically problems in lighting when the image was taken. And we can essentially smooth out the image or reduce some of the noise by applying some blurring method\n",
    "\n",
    "dentro de un kernel , hay varios metodos, blur is applied to the middle pixels as a result of the pixels around it also called the surrounding pixels. \n",
    "\n",
    "\n"
   ]
  },
  {
   "cell_type": "code",
   "execution_count": 33,
   "id": "decent-bulgaria",
   "metadata": {},
   "outputs": [
    {
     "data": {
      "text/plain": [
       "-1"
      ]
     },
     "execution_count": 33,
     "metadata": {},
     "output_type": "execute_result"
    }
   ],
   "source": [
    "img = cv.imread('./Curso-Opencv-full/images/cat.jpg')\n",
    "cv.imshow('Cat', img)\n",
    "\n",
    "# Averaging\n",
    "average = cv.blur(img, (7,7))\n",
    "cv.imshow('Average Blur', average)\n",
    "\n",
    "cv.waitKey(0)\n"
   ]
  },
  {
   "cell_type": "code",
   "execution_count": 35,
   "id": "patient-obligation",
   "metadata": {},
   "outputs": [
    {
     "data": {
      "text/plain": [
       "-1"
      ]
     },
     "execution_count": 35,
     "metadata": {},
     "output_type": "execute_result"
    }
   ],
   "source": [
    "average = cv.blur(img, (3,3))\n",
    "cv.imshow('Average Blur', average)\n",
    "\n",
    "# Gaussian Blur\n",
    "#(imagen, kernel size, estandar deviation)\n",
    "\n",
    "\n",
    "gauss = cv.GaussianBlur(img, (3,), 0)\n",
    "\n",
    "cv.imshow('Gaussian Blur', gauss)\n",
    "\n",
    "cv.waitKey(0)\n",
    "\n",
    "# gaus es menos que el average method because a certain weight value was added when computing the blur"
   ]
  },
  {
   "cell_type": "code",
   "execution_count": 37,
   "id": "chubby-distinction",
   "metadata": {},
   "outputs": [
    {
     "data": {
      "text/plain": [
       "-1"
      ]
     },
     "execution_count": 37,
     "metadata": {},
     "output_type": "execute_result"
    }
   ],
   "source": [
    "# Median blur\n",
    "\n",
    "# generaly median blurring to be more effective in reducing noise in an image as compared to averaging\n",
    "# and even Gaussian Blur, todo depende del problmea y la reduccion sustancial de la cantidad de ruido\n",
    "\n",
    "\n",
    "median = cv.medianBlur(img, 7)\n",
    "\n",
    "cv.imshow('Median blur', median)\n",
    "\n",
    "cv.waitKey(0)\n",
    "\n",
    "# Median blur is not meant for high kernal sizes like seven or even 5 in some cases\n",
    "\n",
    "# and is effective to reducing some of the noise in the image."
   ]
  },
  {
   "cell_type": "code",
   "execution_count": 39,
   "id": "protective-missouri",
   "metadata": {},
   "outputs": [
    {
     "data": {
      "text/plain": [
       "-1"
      ]
     },
     "execution_count": 39,
     "metadata": {},
     "output_type": "execute_result"
    }
   ],
   "source": [
    "average = cv.blur(img, (3,3))\n",
    "cv.imshow('Average Blur', average)\n",
    "\n",
    "# Gaussian Blur\n",
    "#(imagen, kernel size, estandar deviation)\n",
    "\n",
    "\n",
    "gauss = cv.GaussianBlur(img, (3, 3), 0)\n",
    "\n",
    "cv.imshow('Gaussian Blur', gauss)\n",
    "\n",
    "# Median Blur\n",
    "median = cv.medianBlur(img, 3)\n",
    "\n",
    "cv.imshow('Median blur', median)\n",
    "\n",
    "\n",
    "# Median blur is not meant for high kernal sizes like seven or even 5 in some cases\n",
    "\n",
    "# and is effective to reducing some of the noise in the image.\n",
    "\n",
    "cv.waitKey(0)\n"
   ]
  },
  {
   "cell_type": "code",
   "execution_count": 41,
   "id": "technological-architect",
   "metadata": {},
   "outputs": [
    {
     "data": {
      "text/plain": [
       "-1"
      ]
     },
     "execution_count": 41,
     "metadata": {},
     "output_type": "execute_result"
    }
   ],
   "source": [
    "# Bilateral\n",
    "# the most efective  is used alot of advanced compurter vision  projects,\n",
    "# esseantially because of how it blurs. Now traditional\n",
    "# Traditional blurring methods basically blur the image without looking at whether you're, whether you're reducing edges in the image or not\n",
    "\n",
    "# bilateral blurring applies blurring but retains  the edges in the image. So you have a blurred image, but you get to retain the edges as well\n",
    "\n",
    "\n",
    "# Bilateral\n",
    "# larger values of this space sigma means that pixels further out from  the central pixel will influence the blurring calculation\n",
    "bilateral = cv.bilateralFilter(img, 5, 15, 15)\n",
    "\n",
    "cv.imshow('Bilateral', bilateral)\n",
    "\n",
    "cv.waitKey(0)"
   ]
  },
  {
   "cell_type": "markdown",
   "id": "abroad-survivor",
   "metadata": {},
   "source": [
    "## BITWISE OPERATIONS"
   ]
  },
  {
   "cell_type": "code",
   "execution_count": 42,
   "id": "wired-immune",
   "metadata": {},
   "outputs": [
    {
     "data": {
      "text/plain": [
       "-1"
      ]
     },
     "execution_count": 42,
     "metadata": {},
     "output_type": "execute_result"
    }
   ],
   "source": [
    "import cv2 as cv\n",
    "\n",
    "import numpy as np\n",
    "\n",
    "blank = np.zeros((400, 400), dtype='uint8')\n",
    "\n",
    "rectangle = cv.rectangle(blank.copy(), (30,30), (370,370), 255, -1)\n",
    "\n",
    "circle = cv.circle(blank.copy(), (200,200), 200, 255, -1)\n",
    "\n",
    "\n",
    "cv.imshow('Rectangle', rectangle)\n",
    "\n",
    "cv.imshow('Circle', circle)\n",
    "\n",
    "cv.waitKey(0)"
   ]
  },
  {
   "cell_type": "code",
   "execution_count": 43,
   "id": "minute-michael",
   "metadata": {},
   "outputs": [
    {
     "data": {
      "text/plain": [
       "-1"
      ]
     },
     "execution_count": 43,
     "metadata": {},
     "output_type": "execute_result"
    }
   ],
   "source": [
    "# bitwise AND ====> intersecting regions\n",
    "# retorna la intercepcion entre dos conjuntos(dos imagenes)\n",
    "\n",
    "bitwise_and = cv.bitwise_and(rectangle, circle)\n",
    "\n",
    "cv.imshow('Bitwise AND', bitwise_and)\n",
    "cv.waitKey(0)"
   ]
  },
  {
   "cell_type": "code",
   "execution_count": 44,
   "id": "atlantic-niagara",
   "metadata": {},
   "outputs": [
    {
     "data": {
      "text/plain": [
       "-1"
      ]
     },
     "execution_count": 44,
     "metadata": {},
     "output_type": "execute_result"
    }
   ],
   "source": [
    "# Bitwise OR =====. non intersecting region and intersecting regions\n",
    "# return intercep and not intercep region (Both)\n",
    "\n",
    "\n",
    "bitwise_or = cv.bitwise_or(rectangle, circle)\n",
    "\n",
    "cv.imshow('Bitwise OR', bitwise_or)\n",
    "\n",
    "\n",
    "cv.waitKey(0)"
   ]
  },
  {
   "cell_type": "code",
   "execution_count": 48,
   "id": "legitimate-elephant",
   "metadata": {},
   "outputs": [
    {
     "data": {
      "text/plain": [
       "-1"
      ]
     },
     "execution_count": 48,
     "metadata": {},
     "output_type": "execute_result"
    }
   ],
   "source": [
    "# Bitwise XOR (non intesecting region) (disjuntoos)\n",
    "\n",
    "bitwise_xor = cv.bitwise_xor(rectangle, circle)\n",
    "\n",
    "cv.imshow('Bitwise XOR', bitwise_xor)\n",
    "cv.waitKey(0)"
   ]
  },
  {
   "cell_type": "code",
   "execution_count": 49,
   "id": "attached-blogger",
   "metadata": {
    "scrolled": true
   },
   "outputs": [
    {
     "data": {
      "text/plain": [
       "-1"
      ]
     },
     "execution_count": 49,
     "metadata": {},
     "output_type": "execute_result"
    }
   ],
   "source": [
    "# bitwise NOT, this inverts the binary color\n",
    "# si es blanco lo vuelve negro y si es negro, se vuelve blanco\n",
    "\n",
    "bitwise_not = cv.bitwise_not(rectangle)\n",
    "cv.imshow('Rectangle Not', bitwise_not)\n",
    "cv.waitKey(0)"
   ]
  },
  {
   "cell_type": "code",
   "execution_count": 50,
   "id": "attached-invasion",
   "metadata": {},
   "outputs": [
    {
     "data": {
      "text/plain": [
       "-1"
      ]
     },
     "execution_count": 50,
     "metadata": {},
     "output_type": "execute_result"
    }
   ],
   "source": [
    "bitwise_not = cv.bitwise_not(circle)\n",
    "cv.imshow('Circle Not', bitwise_not)\n",
    "cv.waitKey(0)"
   ]
  },
  {
   "cell_type": "markdown",
   "id": "driving-picking",
   "metadata": {},
   "source": [
    "## Masking \n",
    "\n",
    "masking essentially allows us to focus on certain parts of an image that we'd like to focus on. So for example, if you have an image of people in it, and if you're interested in focusing on the faces of those people, you could essentially apply  masking and essentially mask over the people's faces and remove all the the unwanted parts of the images. So that's basically our high level intuiton behind this\n"
   ]
  },
  {
   "cell_type": "code",
   "execution_count": 66,
   "id": "ambient-affiliate",
   "metadata": {},
   "outputs": [
    {
     "data": {
      "text/plain": [
       "-1"
      ]
     },
     "execution_count": 66,
     "metadata": {},
     "output_type": "execute_result"
    }
   ],
   "source": [
    "import numpy as np\n",
    "\n",
    "# the dimention of the mask has to be the same size as that of the image\n",
    "\n",
    "img = cv.imread(\"./Curso-Opencv-full/images/cats 2.jpg\")\n",
    "\n",
    "cv.imshow('Cat', img)\n",
    "\n",
    "blank = np.zeros(img.shape[:2], dtype='uint8')\n",
    "cv.imshow('Blank image', blank)\n",
    "#/----------------------------x, y\n",
    "# mask = cv.circle(blank, (img.shape[1]//2 + 130, img.shape[0]//2  ), 100, 255, -1)\n",
    "\n",
    "# mask = cv.circle(blank, (img.shape[1]//2 + 130, img.shape[0]//2  ), 100, 255, -1)\n",
    "\n",
    "circle = cv.circle(blank.copy(), (img.shape[1]//2 + 45, img.shape[0]//2), 100, 255, -1)\n",
    "\n",
    "# mask = cv.rectangle(blank, (img.shape[1]//2, img.shape[0]//2  ),(img.shape[1]//2 + 100, img.shape[0]//2 + 100), 255, -1)\n",
    "\n",
    "cv.imshow('Mask', mask)\n",
    "\n",
    "\n",
    "rectangle = cv.rectangle(blank.copy(), (30, 30), (370, 370), 255, -1)\n",
    "\n",
    "weird_shape = cv.bitwise_and(circle, rectangle)\n",
    "\n",
    "cv.imshow('Weird Shape', weird_shape)\n",
    "\n",
    "masked = cv.bitwise_and(img, img, mask=weird_shape)\n",
    "\n",
    "cv.imshow('Masked Image', masked)\n",
    "cv.waitKey(0)\n",
    "\n",
    "\n"
   ]
  },
  {
   "cell_type": "markdown",
   "id": "impressive-steering",
   "metadata": {},
   "source": [
    "## Computing Histograms\n",
    "\n",
    "allow you to visualize the distribution of pixel intesities in an image"
   ]
  },
  {
   "cell_type": "code",
   "execution_count": null,
   "id": "dependent-dayton",
   "metadata": {},
   "outputs": [],
   "source": [
    "import matplotlib.pyplot as plt\n",
    "img = cv.imread('./Curso-Opencv-full/images/')\n",
    "\n",
    "cv.imshow('cat', img)\n",
    "gray = cv.cvtColor(img, cv.COLOR_BGR2GRAY)\n",
    "\n",
    "cv.imshow('Gray', gray)\n",
    "\n",
    "\n",
    "# Grayscale histogram\n",
    "#histSize = numero de bin\n",
    "gray_hist =  cv.calcHist([gray], [0], None, [256], [0,256] )\n",
    "\n",
    "\n",
    "plt.figure()\n",
    "\n",
    "plt.title('Grayscale Histogram')\n",
    "\n",
    "plt.xlabel('Bins')\n",
    "\n",
    "plt.ylabel('# of pixcels')\n",
    "\n",
    "plt.plot(gray_hist)\n",
    "\n",
    "plt.xlim([0, 256])\n",
    "\n",
    "plt.show()\n",
    "\n",
    "\n",
    "\n",
    "cv.waitKey(0)\n",
    "\n"
   ]
  },
  {
   "cell_type": "code",
   "execution_count": null,
   "id": "compliant-dodge",
   "metadata": {},
   "outputs": [],
   "source": []
  }
 ],
 "metadata": {
  "kernelspec": {
   "display_name": "Python 3",
   "language": "python",
   "name": "python3"
  },
  "language_info": {
   "codemirror_mode": {
    "name": "ipython",
    "version": 3
   },
   "file_extension": ".py",
   "mimetype": "text/x-python",
   "name": "python",
   "nbconvert_exporter": "python",
   "pygments_lexer": "ipython3",
   "version": "3.6.9"
  }
 },
 "nbformat": 4,
 "nbformat_minor": 5
}
